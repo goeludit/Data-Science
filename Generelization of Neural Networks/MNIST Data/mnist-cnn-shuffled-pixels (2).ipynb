{
 "cells": [
  {
   "cell_type": "markdown",
   "id": "060b89cd",
   "metadata": {
    "papermill": {
     "duration": 0.023955,
     "end_time": "2022-02-13T12:42:03.937842",
     "exception": false,
     "start_time": "2022-02-13T12:42:03.913887",
     "status": "completed"
    },
    "tags": []
   },
   "source": [
    "# Introduction"
   ]
  },
  {
   "cell_type": "markdown",
   "id": "aa23f0f1",
   "metadata": {
    "papermill": {
     "duration": 0.022092,
     "end_time": "2022-02-13T12:42:03.984967",
     "exception": false,
     "start_time": "2022-02-13T12:42:03.962875",
     "status": "completed"
    },
    "tags": []
   },
   "source": [
    "The purpose of this notebook is to build CNN's for digit classification using the famous MNIST dataset. This is one of those classical examples in computer vision that is important in its own right but also incredibly interesting to learn from. Applications of such algorithms include reading bank cheques for example. It is therefore clear why we need to achieve incredibly high accuracy in our algorithms.  "
   ]
  },
  {
   "cell_type": "markdown",
   "id": "8153cdfe",
   "metadata": {
    "_kg_hide-input": false,
    "_kg_hide-output": false,
    "papermill": {
     "duration": 0.022074,
     "end_time": "2022-02-13T12:42:04.030423",
     "exception": false,
     "start_time": "2022-02-13T12:42:04.008349",
     "status": "completed"
    },
    "tags": []
   },
   "source": [
    "# Libraries"
   ]
  },
  {
   "cell_type": "code",
   "execution_count": null,
   "id": "a84f6270",
   "metadata": {
    "execution": {
     "iopub.execute_input": "2022-02-13T12:42:04.080592Z",
     "iopub.status.busy": "2022-02-13T12:42:04.079090Z",
     "iopub.status.idle": "2022-02-13T12:42:09.783757Z",
     "shell.execute_reply": "2022-02-13T12:42:09.783119Z",
     "shell.execute_reply.started": "2022-02-13T11:42:48.190032Z"
    },
    "papermill": {
     "duration": 5.730703,
     "end_time": "2022-02-13T12:42:09.783908",
     "exception": false,
     "start_time": "2022-02-13T12:42:04.053205",
     "status": "completed"
    },
    "tags": []
   },
   "outputs": [],
   "source": [
    "# Core\n",
    "import numpy as np\n",
    "import pandas as pd\n",
    "import seaborn as sns\n",
    "sns.set(style='darkgrid', font_scale=1.4)\n",
    "import matplotlib.pyplot as plt\n",
    "%matplotlib inline\n",
    "import time\n",
    "import warnings\n",
    "warnings.filterwarnings(\"ignore\")\n",
    "\n",
    "# Sklearn\n",
    "from sklearn.model_selection import train_test_split, StratifiedKFold\n",
    "from sklearn.metrics import accuracy_score\n",
    "\n",
    "# Tensorflow\n",
    "import tensorflow as tf\n",
    "from tensorflow import keras\n",
    "from tensorflow.keras import layers\n",
    "from tensorflow.keras import callbacks\n",
    "from keras.preprocessing.image import ImageDataGenerator\n",
    "from tensorflow.keras.layers.experimental import preprocessing\n",
    "from tensorflow.keras.utils import plot_model\n"
   ]
  },
  {
   "cell_type": "markdown",
   "id": "b6133039",
   "metadata": {
    "papermill": {
     "duration": 0.024761,
     "end_time": "2022-02-13T12:42:09.833762",
     "exception": false,
     "start_time": "2022-02-13T12:42:09.809001",
     "status": "completed"
    },
    "tags": []
   },
   "source": [
    "**Reproducibility**"
   ]
  },
  {
   "cell_type": "code",
   "execution_count": null,
   "id": "6dd1e80a",
   "metadata": {
    "execution": {
     "iopub.execute_input": "2022-02-13T12:42:09.888561Z",
     "iopub.status.busy": "2022-02-13T12:42:09.887687Z",
     "iopub.status.idle": "2022-02-13T12:42:09.889553Z",
     "shell.execute_reply": "2022-02-13T12:42:09.890057Z",
     "shell.execute_reply.started": "2022-02-13T11:42:53.902995Z"
    },
    "papermill": {
     "duration": 0.031994,
     "end_time": "2022-02-13T12:42:09.890219",
     "exception": false,
     "start_time": "2022-02-13T12:42:09.858225",
     "status": "completed"
    },
    "tags": []
   },
   "outputs": [],
   "source": [
    "# Random seeds\n",
    "def set_seed(seed=0):\n",
    "    np.random.seed(seed)\n",
    "    tf.random.set_seed(seed)\n",
    "set_seed()"
   ]
  },
  {
   "cell_type": "markdown",
   "id": "fd9b6bb8",
   "metadata": {
    "papermill": {
     "duration": 0.024066,
     "end_time": "2022-02-13T12:42:09.938783",
     "exception": false,
     "start_time": "2022-02-13T12:42:09.914717",
     "status": "completed"
    },
    "tags": []
   },
   "source": [
    "# Data"
   ]
  },
  {
   "cell_type": "code",
   "execution_count": null,
   "id": "fb28dd9c",
   "metadata": {
    "execution": {
     "iopub.execute_input": "2022-02-13T12:42:09.993258Z",
     "iopub.status.busy": "2022-02-13T12:42:09.992648Z",
     "iopub.status.idle": "2022-02-13T12:42:15.202699Z",
     "shell.execute_reply": "2022-02-13T12:42:15.203150Z",
     "shell.execute_reply.started": "2022-02-13T11:42:53.914351Z"
    },
    "papermill": {
     "duration": 5.240231,
     "end_time": "2022-02-13T12:42:15.203303",
     "exception": false,
     "start_time": "2022-02-13T12:42:09.963072",
     "status": "completed"
    },
    "tags": []
   },
   "outputs": [],
   "source": [
    "# Training data\n",
    "train_data = pd.read_csv(r\"C:\\Users\\Udit Goel\\Desktop\\FDM Project\\MNIST Data\\train.csv\")\n",
    "test_data  = pd.read_csv(r\"C:\\Users\\Udit Goel\\Desktop\\FDM Project\\MNIST Data\\test.csv\")\n",
    "# sub = pd.read_csv(r\"C:\\Users\\Udit Goel\\Desktop\\FDM Project\\MNIST Data\\sample_submission.csv\")\n",
    "print(\"Data are Ready!!\")\n",
    "# Dimensions\n",
    "print('Training dataframe dimensions:',train_data.shape)\n",
    "print('Test dataframe dimensions:',test_data.shape)\n",
    "\n",
    "# First 5 entries of training data\n",
    "train_data.head()"
   ]
  },
  {
   "cell_type": "markdown",
   "id": "140c37a7",
   "metadata": {
    "papermill": {
     "duration": 0.023862,
     "end_time": "2022-02-13T12:42:15.251062",
     "exception": false,
     "start_time": "2022-02-13T12:42:15.227200",
     "status": "completed"
    },
    "tags": []
   },
   "source": [
    "**Check for null values**"
   ]
  },
  {
   "cell_type": "code",
   "execution_count": null,
   "id": "434a63ed",
   "metadata": {
    "_kg_hide-input": false,
    "execution": {
     "iopub.execute_input": "2022-02-13T12:42:15.305421Z",
     "iopub.status.busy": "2022-02-13T12:42:15.304122Z",
     "iopub.status.idle": "2022-02-13T12:42:15.389443Z",
     "shell.execute_reply": "2022-02-13T12:42:15.388741Z",
     "shell.execute_reply.started": "2022-02-13T11:42:59.488478Z"
    },
    "papermill": {
     "duration": 0.11492,
     "end_time": "2022-02-13T12:42:15.389605",
     "exception": false,
     "start_time": "2022-02-13T12:42:15.274685",
     "status": "completed"
    },
    "tags": []
   },
   "outputs": [],
   "source": [
    "# Missing values values\n",
    "print('Number of null values in training set:',train_data.isnull().sum().sum())\n",
    "print('')\n",
    "print('Number of null values in test set:',test_data.isnull().sum().sum())"
   ]
  },
  {
   "cell_type": "markdown",
   "id": "dffdce3d",
   "metadata": {
    "papermill": {
     "duration": 0.023935,
     "end_time": "2022-02-13T12:42:15.438684",
     "exception": false,
     "start_time": "2022-02-13T12:42:15.414749",
     "status": "completed"
    },
    "tags": []
   },
   "source": [
    "**Preview first few images**"
   ]
  },
  {
   "cell_type": "code",
   "execution_count": null,
   "id": "9af603de",
   "metadata": {
    "_kg_hide-input": false,
    "execution": {
     "iopub.execute_input": "2022-02-13T12:42:15.499744Z",
     "iopub.status.busy": "2022-02-13T12:42:15.489375Z",
     "iopub.status.idle": "2022-02-13T12:42:15.943533Z",
     "shell.execute_reply": "2022-02-13T12:42:15.943086Z",
     "shell.execute_reply.started": "2022-02-13T11:42:59.584720Z"
    },
    "papermill": {
     "duration": 0.480815,
     "end_time": "2022-02-13T12:42:15.943659",
     "exception": false,
     "start_time": "2022-02-13T12:42:15.462844",
     "status": "completed"
    },
    "tags": []
   },
   "outputs": [],
   "source": [
    "# Figure size\n",
    "plt.figure(figsize=(9,9))\n",
    "\n",
    "# Subplot \n",
    "for i in range(9):\n",
    "    img = np.asarray(train_data.iloc[i+18,1:].values.reshape((28,28))/255);\n",
    "    ax=plt.subplot(3, 3, i+1)\n",
    "    ax.grid(False)\n",
    "    ax.get_xaxis().set_visible(False)\n",
    "    ax.get_yaxis().set_visible(False)\n",
    "    ax.title.set_text(f'{train_data.iloc[i+18,0]}')\n",
    "    plt.imshow(img, cmap='gray')\n",
    "    \n",
    "plt.show()"
   ]
  },
  {
   "cell_type": "code",
   "execution_count": null,
   "id": "562943a5",
   "metadata": {},
   "outputs": [],
   "source": [
    "import pandas as pd\n",
    "import numpy as np\n",
    "\n",
    "\n",
    "\n",
    "# Function to shuffle 10% of the pixels of an image\n",
    "# Function to shuffle 10% of the pixels of an image\n",
    "def shuffle_pixels(row):\n",
    "    n_pixels = len(row)  # Total number of pixels in the image\n",
    "    n_shuffle = int(0.1 * n_pixels)  # Number of pixels to shuffle (10%)\n",
    "    indices_to_shuffle = np.random.choice(n_pixels, n_shuffle, replace=False)  # Select random indices to shuffle\n",
    "    values_to_shuffle = row[indices_to_shuffle]  # Extract the pixel values at these indices\n",
    "    np.random.shuffle(values_to_shuffle)  # Shuffle these pixel values\n",
    "    row[indices_to_shuffle] = values_to_shuffle  # Assign the shuffled values back to the original indices\n",
    "    return row\n",
    "\n",
    "\n",
    "# Apply the shuffling function to each image (row)\n",
    "shuffled_data = train_data.apply(shuffle_pixels, axis=1)\n",
    "\n"
   ]
  },
  {
   "cell_type": "code",
   "execution_count": null,
   "id": "0eaf84dc",
   "metadata": {},
   "outputs": [],
   "source": [
    "shuffled_data.to_csv(r'C:\\Users\\Udit Goel\\Desktop\\FDM Project\\MNIST Data\\shuffled_train.csv')"
   ]
  },
  {
   "cell_type": "code",
   "execution_count": null,
   "id": "84749b87",
   "metadata": {},
   "outputs": [],
   "source": [
    "parent = []\n",
    "\n",
    "\n",
    "for i in train_data.iloc:\n",
    "    np.random.shuffle(i)\n",
    "    # print(temp)\n",
    "    # parent.append[temp]\n",
    "\n",
    "shuff_data = pd.DataFrame(parent, columns= train_data.columns)\n",
    "shuff_data.head"
   ]
  },
  {
   "cell_type": "code",
   "execution_count": null,
   "id": "83d986f5",
   "metadata": {},
   "outputs": [],
   "source": [
    "X=shuffled_data.drop('label', axis=1)/255\n",
    "\n",
    "# Reshape (-1 means unspecified)\n",
    "X = X.values.reshape(-1, 28, 28, 1)\n",
    "\n",
    "# Save test data index for submission\n",
    "test_index = test_data.index\n",
    "\n",
    "# Reshape\n",
    "test_data = test_data.values.reshape(-1, 28, 28, 1)"
   ]
  },
  {
   "cell_type": "code",
   "execution_count": null,
   "id": "ad410cf0",
   "metadata": {},
   "outputs": [],
   "source": [
    "train_data == shuffle_data"
   ]
  },
  {
   "cell_type": "code",
   "execution_count": null,
   "id": "30c0943c",
   "metadata": {},
   "outputs": [],
   "source": [
    "# Data Augmentation\n",
    "datagen = ImageDataGenerator(\n",
    "    rotation_range = 18,           # 18 degrees\n",
    "    zoom_range=0.2,                # 20 %\n",
    "    fill_mode='constant',          # edge pixels\n",
    "    cval=0                         # fill value\n",
    ")\n",
    "\n",
    "aug = datagen.flow(X[42].reshape(-1, 28, 28, 1))\n",
    "\n",
    "# Plot using a for loop\n",
    "fig, axes = plt.subplots(2, 8, figsize = (15, 4))\n",
    "plt.suptitle('Random Rotation & Random Zoom', fontsize=20, y=1.05)\n",
    "axes = axes.ravel()\n",
    "\n",
    "for i in range(16):\n",
    "    \n",
    "    aug_img = next(aug)[0]\n",
    "    axes[i].imshow(aug_img, cmap = 'gray')\n",
    "    axes[i].axis('off')\n",
    "    \n",
    "plt.show()"
   ]
  },
  {
   "cell_type": "code",
   "execution_count": null,
   "id": "4ccfbf5c",
   "metadata": {},
   "outputs": [],
   "source": [
    "shuffle_data = train_data"
   ]
  },
  {
   "cell_type": "code",
   "execution_count": null,
   "id": "b825acf0",
   "metadata": {},
   "outputs": [],
   "source": []
  },
  {
   "cell_type": "markdown",
   "id": "a879e029",
   "metadata": {
    "papermill": {
     "duration": 0.0249,
     "end_time": "2022-02-13T12:42:15.993570",
     "exception": false,
     "start_time": "2022-02-13T12:42:15.968670",
     "status": "completed"
    },
    "tags": []
   },
   "source": [
    "**Explore label distribution**"
   ]
  },
  {
   "cell_type": "code",
   "execution_count": null,
   "id": "403bf324",
   "metadata": {
    "_kg_hide-input": false,
    "execution": {
     "iopub.execute_input": "2022-02-13T12:42:16.051842Z",
     "iopub.status.busy": "2022-02-13T12:42:16.051176Z",
     "iopub.status.idle": "2022-02-13T12:42:16.325108Z",
     "shell.execute_reply": "2022-02-13T12:42:16.324659Z",
     "shell.execute_reply.started": "2022-02-13T11:43:00.114227Z"
    },
    "papermill": {
     "duration": 0.307018,
     "end_time": "2022-02-13T12:42:16.325240",
     "exception": false,
     "start_time": "2022-02-13T12:42:16.018222",
     "status": "completed"
    },
    "tags": []
   },
   "outputs": [],
   "source": [
    "# Figure size\n",
    "plt.figure(figsize=(10,5))\n",
    "\n",
    "# Countplot\n",
    "sns.countplot(x='label', data=train_data)\n",
    "plt.title('Distribution of labels in training set')"
   ]
  },
  {
   "cell_type": "markdown",
   "id": "035b12c2",
   "metadata": {
    "papermill": {
     "duration": 0.02585,
     "end_time": "2022-02-13T12:42:16.376998",
     "exception": false,
     "start_time": "2022-02-13T12:42:16.351148",
     "status": "completed"
    },
    "tags": []
   },
   "source": [
    "**Labels and features**"
   ]
  },
  {
   "cell_type": "code",
   "execution_count": null,
   "id": "3bbe4b56",
   "metadata": {
    "execution": {
     "iopub.execute_input": "2022-02-13T12:42:16.433098Z",
     "iopub.status.busy": "2022-02-13T12:42:16.432533Z",
     "iopub.status.idle": "2022-02-13T12:42:16.613494Z",
     "shell.execute_reply": "2022-02-13T12:42:16.612674Z",
     "shell.execute_reply.started": "2022-02-13T11:43:00.400893Z"
    },
    "papermill": {
     "duration": 0.211229,
     "end_time": "2022-02-13T12:42:16.613625",
     "exception": false,
     "start_time": "2022-02-13T12:42:16.402396",
     "status": "completed"
    },
    "tags": []
   },
   "outputs": [],
   "source": [
    "# Labels\n",
    "y=train_data.label\n",
    "\n",
    "# Scale features to be in [0,1]\n",
    "X=train_data.drop('label', axis=1)/255\n",
    "\n",
    "# Delete to save memory\n",
    "del train_data"
   ]
  },
  {
   "cell_type": "markdown",
   "id": "ef38351b",
   "metadata": {
    "papermill": {
     "duration": 0.026207,
     "end_time": "2022-02-13T12:42:16.665761",
     "exception": false,
     "start_time": "2022-02-13T12:42:16.639554",
     "status": "completed"
    },
    "tags": []
   },
   "source": [
    "**Reshape data**"
   ]
  },
  {
   "cell_type": "code",
   "execution_count": null,
   "id": "d27e1fba",
   "metadata": {
    "execution": {
     "iopub.execute_input": "2022-02-13T12:42:16.724865Z",
     "iopub.status.busy": "2022-02-13T12:42:16.724361Z",
     "iopub.status.idle": "2022-02-13T12:42:16.727841Z",
     "shell.execute_reply": "2022-02-13T12:42:16.727394Z",
     "shell.execute_reply.started": "2022-02-13T11:43:00.599615Z"
    },
    "papermill": {
     "duration": 0.034762,
     "end_time": "2022-02-13T12:42:16.727946",
     "exception": false,
     "start_time": "2022-02-13T12:42:16.693184",
     "status": "completed"
    },
    "tags": []
   },
   "outputs": [],
   "source": [
    "# Reshape (-1 means unspecified)\n",
    "X = X.values.reshape(-1, 28, 28, 1)\n",
    "\n",
    "# Save test data index for submission\n",
    "test_index = test_data.index\n",
    "\n",
    "# Reshape\n",
    "test_data = test_data.values.reshape(-1, 28, 28, 1)"
   ]
  },
  {
   "cell_type": "markdown",
   "id": "014f6e51",
   "metadata": {
    "papermill": {
     "duration": 0.025302,
     "end_time": "2022-02-13T12:42:16.778800",
     "exception": false,
     "start_time": "2022-02-13T12:42:16.753498",
     "status": "completed"
    },
    "tags": []
   },
   "source": [
    "# Data Augmentation"
   ]
  },
  {
   "cell_type": "markdown",
   "id": "1df6fded",
   "metadata": {
    "papermill": {
     "duration": 0.025405,
     "end_time": "2022-02-13T12:42:16.829681",
     "exception": false,
     "start_time": "2022-02-13T12:42:16.804276",
     "status": "completed"
    },
    "tags": []
   },
   "source": [
    "Data Augmentation is a clever trick that uses your existing training set to create additional 'fake' data by applying small transformations at every epoch. This doesn't change the size of your training set, it just modifies each image slightly at every epoch so the network becomes for robust over many epochs."
   ]
  },
  {
   "cell_type": "markdown",
   "id": "73f51ca6",
   "metadata": {
    "papermill": {
     "duration": 0.025239,
     "end_time": "2022-02-13T12:42:16.880554",
     "exception": false,
     "start_time": "2022-02-13T12:42:16.855315",
     "status": "completed"
    },
    "tags": []
   },
   "source": [
    "**Visualise augmentations**"
   ]
  },
  {
   "cell_type": "code",
   "execution_count": null,
   "id": "04a1cceb",
   "metadata": {
    "_kg_hide-input": false,
    "execution": {
     "iopub.execute_input": "2022-02-13T12:42:16.944527Z",
     "iopub.status.busy": "2022-02-13T12:42:16.943690Z",
     "iopub.status.idle": "2022-02-13T12:42:18.110941Z",
     "shell.execute_reply": "2022-02-13T12:42:18.112119Z",
     "shell.execute_reply.started": "2022-02-13T12:30:02.121316Z"
    },
    "papermill": {
     "duration": 1.206431,
     "end_time": "2022-02-13T12:42:18.112366",
     "exception": false,
     "start_time": "2022-02-13T12:42:16.905935",
     "status": "completed"
    },
    "tags": []
   },
   "outputs": [],
   "source": [
    "# Data Augmentation\n",
    "datagen = ImageDataGenerator(\n",
    "    rotation_range = 18,           # 18 degrees\n",
    "    zoom_range=0.2,                # 20 %\n",
    "    fill_mode='constant',          # edge pixels\n",
    "    cval=0                         # fill value\n",
    ")\n",
    "\n",
    "aug = datagen.flow(X[42].reshape(-1, 28, 28, 1))\n",
    "\n",
    "# Plot using a for loop\n",
    "fig, axes = plt.subplots(2, 8, figsize = (15, 4))\n",
    "plt.suptitle('Random Rotation & Random Zoom', fontsize=20, y=1.05)\n",
    "axes = axes.ravel()\n",
    "\n",
    "for i in range(16):\n",
    "    \n",
    "    aug_img = next(aug)[0]\n",
    "    axes[i].imshow(aug_img, cmap = 'gray')\n",
    "    axes[i].axis('off')\n",
    "    \n",
    "plt.show()"
   ]
  },
  {
   "cell_type": "markdown",
   "id": "6433c052",
   "metadata": {
    "papermill": {
     "duration": 0.046954,
     "end_time": "2022-02-13T12:42:18.212770",
     "exception": false,
     "start_time": "2022-02-13T12:42:18.165816",
     "status": "completed"
    },
    "tags": []
   },
   "source": [
    "We'll actually use keras' preprocessing library instead of ImageDataGenerator. This is because the latter works on a CPU whereas the former works on a GPU so this will be faster."
   ]
  },
  {
   "cell_type": "markdown",
   "id": "9bffe797",
   "metadata": {
    "papermill": {
     "duration": 0.042821,
     "end_time": "2022-02-13T12:42:18.298681",
     "exception": false,
     "start_time": "2022-02-13T12:42:18.255860",
     "status": "completed"
    },
    "tags": []
   },
   "source": [
    "# Model"
   ]
  },
  {
   "cell_type": "code",
   "execution_count": null,
   "id": "913026b1",
   "metadata": {
    "_kg_hide-output": true,
    "execution": {
     "iopub.execute_input": "2022-02-13T12:42:18.397964Z",
     "iopub.status.busy": "2022-02-13T12:42:18.397160Z",
     "iopub.status.idle": "2022-02-13T12:42:18.402548Z",
     "shell.execute_reply": "2022-02-13T12:42:18.403507Z",
     "shell.execute_reply.started": "2022-02-13T11:43:02.297304Z"
    },
    "papermill": {
     "duration": 0.061792,
     "end_time": "2022-02-13T12:42:18.403690",
     "exception": false,
     "start_time": "2022-02-13T12:42:18.341898",
     "status": "completed"
    },
    "tags": []
   },
   "outputs": [],
   "source": [
    "# Define model\n",
    "def build_model():\n",
    "    model = keras.Sequential([\n",
    "\n",
    "        # Data Augmentation\n",
    "        preprocessing.RandomRotation(factor=0.05, fill_mode='constant'),     # 18 degrees\n",
    "        preprocessing.RandomZoom(height_factor=(-0.2,0.2), width_factor=(-0.2,0.2), fill_mode='constant'),  # 20%\n",
    "\n",
    "        # Convolutional layer 1\n",
    "        layers.Conv2D(filters=64, kernel_size=5, strides=1, padding='same', input_shape=[28,28,1], activation='relu'),\n",
    "        layers.MaxPool2D(pool_size=2, padding='same'),\n",
    "        layers.Dropout(rate=0.3),\n",
    "\n",
    "        # Convolutional layer 2\n",
    "        layers.Conv2D(filters=128, kernel_size=3, strides=1, padding='same', activation='relu'),\n",
    "        layers.MaxPool2D(pool_size=4, padding='same'),\n",
    "        layers.Dropout(rate=0.3),\n",
    "        layers.Flatten(),\n",
    "\n",
    "        # Hidden layer 3\n",
    "        layers.Dense(units=256, activation='relu'),\n",
    "        layers.Dropout(rate=0.4),\n",
    "\n",
    "        # Output layer (softmax returns a probability distribution)\n",
    "        layers.Dense(units=10, activation='softmax')\n",
    "    ])\n",
    "\n",
    "    # Define optimizer, loss function and accuracy metric\n",
    "    model.compile(optimizer='adam',\n",
    "                  loss='sparse_categorical_crossentropy',\n",
    "                  metrics=['sparse_categorical_accuracy'])\n",
    "    \n",
    "    return model"
   ]
  },
  {
   "cell_type": "markdown",
   "id": "3aed35b6",
   "metadata": {
    "papermill": {
     "duration": 0.042671,
     "end_time": "2022-02-13T12:42:18.490327",
     "exception": false,
     "start_time": "2022-02-13T12:42:18.447656",
     "status": "completed"
    },
    "tags": []
   },
   "source": [
    "**Early stopping**"
   ]
  },
  {
   "cell_type": "code",
   "execution_count": null,
   "id": "eefa0fde",
   "metadata": {
    "execution": {
     "iopub.execute_input": "2022-02-13T12:42:18.566257Z",
     "iopub.status.busy": "2022-02-13T12:42:18.565496Z",
     "iopub.status.idle": "2022-02-13T12:42:18.568173Z",
     "shell.execute_reply": "2022-02-13T12:42:18.567672Z",
     "shell.execute_reply.started": "2022-02-13T11:43:02.308427Z"
    },
    "papermill": {
     "duration": 0.035546,
     "end_time": "2022-02-13T12:42:18.568297",
     "exception": false,
     "start_time": "2022-02-13T12:42:18.532751",
     "status": "completed"
    },
    "tags": []
   },
   "outputs": [],
   "source": [
    "# Define early stopping callback on validation loss\n",
    "early_stopping = callbacks.EarlyStopping(\n",
    "    monitor='val_loss',\n",
    "    patience=20,\n",
    "    restore_best_weights=True,\n",
    ")\n",
    "\n",
    "# Reduce learning rate when validation loss plateaus\n",
    "reduce_lr = callbacks.ReduceLROnPlateau(\n",
    "    monitor='val_loss',\n",
    "    factor=0.5,\n",
    "    patience=5\n",
    ")"
   ]
  },
  {
   "cell_type": "markdown",
   "id": "1ffd4e3a",
   "metadata": {
    "papermill": {
     "duration": 0.026165,
     "end_time": "2022-02-13T12:42:18.621290",
     "exception": false,
     "start_time": "2022-02-13T12:42:18.595125",
     "status": "completed"
    },
    "tags": []
   },
   "source": [
    "# Cross validation"
   ]
  },
  {
   "cell_type": "code",
   "execution_count": null,
   "id": "3ec7e933",
   "metadata": {
    "_kg_hide-output": true,
    "execution": {
     "iopub.execute_input": "2022-02-13T12:42:18.686682Z",
     "iopub.status.busy": "2022-02-13T12:42:18.685889Z",
     "iopub.status.idle": "2022-02-13T13:19:57.668457Z",
     "shell.execute_reply": "2022-02-13T13:19:57.668880Z",
     "shell.execute_reply.started": "2022-02-13T11:43:02.317383Z"
    },
    "papermill": {
     "duration": 2259.021012,
     "end_time": "2022-02-13T13:19:57.669057",
     "exception": false,
     "start_time": "2022-02-13T12:42:18.648045",
     "status": "completed"
    },
    "tags": []
   },
   "outputs": [],
   "source": [
    "FOLDS = 2\n",
    "EPOCHS = 200\n",
    "BATCH_SIZE = 500\n",
    "\n",
    "history_graph = []\n",
    "test_preds = np.zeros((1, 1))\n",
    "scores = []\n",
    "times = []\n",
    "history_df = pd.DataFrame()\n",
    "\n",
    "cv = StratifiedKFold(n_splits=FOLDS, shuffle=True, random_state=0)\n",
    "\n",
    "for fold, (train_idx, val_idx) in enumerate(cv.split(X, y)):\n",
    "    # Start timer\n",
    "    start = time.time()\n",
    "    \n",
    "    # get training and validation sets\n",
    "    X_train, X_valid = X[train_idx], X[val_idx]\n",
    "    y_train, y_valid = y[train_idx], y[val_idx]\n",
    "\n",
    "    # Build and train model\n",
    "    model = build_model()\n",
    "    fold_history = model.fit(\n",
    "        X_train,\n",
    "        y_train,\n",
    "        validation_data=(X_valid, y_valid),\n",
    "        epochs=EPOCHS,\n",
    "        batch_size=BATCH_SIZE,\n",
    "        #callbacks=[early_stopping, reduce_lr],\n",
    "        verbose=True\n",
    "    )\n",
    "\n",
    "    history_graph.append(fold_history.history)\n",
    "    \n",
    "    # history_df = history_df.append(pd.DataFrame(fold_history.history))\n",
    "    # temp_hist = [x for x in fold_history.history]\n",
    "    # print(type(fold_history.history))\n",
    "    temp = pd.DataFrame.from_dict(fold_history.history)\n",
    "    print(temp)\n",
    "\n",
    "    history_df = pd.concat([temp, history_df])\n",
    "    \n",
    "\n",
    "    \n",
    "    # Make predictions and measure accuracy\n",
    "    y_pred = np.argmax(model.predict(X_valid), axis=1)\n",
    "    score = accuracy_score(y_valid, y_pred)\n",
    "    scores.append(score)\n",
    "    \n",
    "    # Store predictions\n",
    "    test_preds = test_preds + model.predict(test_data)\n",
    "    \n",
    "    # Stop timer\n",
    "    stop = time.time()\n",
    "    times.append((stop - start)/60)\n",
    "    \n",
    "    # Print accuracy and time\n",
    "    print(f'Fold {fold} - Accuracy: {score}, Time: {round((stop - start)/60,1)} mins')\n",
    "    \n",
    "print('')\n",
    "print(f'Mean Accuracy: {np.mean(scores)}')\n"
   ]
  },
  {
   "cell_type": "code",
   "execution_count": null,
   "id": "25d79348",
   "metadata": {},
   "outputs": [],
   "source": [
    "history_graph\n",
    "\n",
    "\n",
    "with open('history_graph_normal.txt', 'w') as f:\n",
    "    for item in history_graph:\n",
    "        f.write(\"%s\\n\"% item)"
   ]
  },
  {
   "cell_type": "code",
   "execution_count": null,
   "id": "1ed997e1",
   "metadata": {},
   "outputs": [],
   "source": [
    "history_df.reset_index\n",
    "history_df.to_csv('history_df', index= False)"
   ]
  },
  {
   "cell_type": "code",
   "execution_count": null,
   "id": "70504756",
   "metadata": {},
   "outputs": [],
   "source": [
    "scores"
   ]
  },
  {
   "cell_type": "markdown",
   "id": "383644a1",
   "metadata": {
    "papermill": {
     "duration": 0.029963,
     "end_time": "2022-02-13T13:19:57.729859",
     "exception": false,
     "start_time": "2022-02-13T13:19:57.699896",
     "status": "completed"
    },
    "tags": []
   },
   "source": [
    "**Plot fold accuracy**"
   ]
  },
  {
   "cell_type": "code",
   "execution_count": null,
   "id": "1b5ede1b",
   "metadata": {
    "execution": {
     "iopub.execute_input": "2022-02-13T13:19:57.809740Z",
     "iopub.status.busy": "2022-02-13T13:19:57.808912Z",
     "iopub.status.idle": "2022-02-13T13:19:58.075345Z",
     "shell.execute_reply": "2022-02-13T13:19:58.075726Z",
     "shell.execute_reply.started": "2022-02-13T11:45:04.901637Z"
    },
    "papermill": {
     "duration": 0.315757,
     "end_time": "2022-02-13T13:19:58.075884",
     "exception": false,
     "start_time": "2022-02-13T13:19:57.760127",
     "status": "completed"
    },
    "tags": []
   },
   "outputs": [],
   "source": [
    "\n",
    "plt.style.use(\"seaborn-v0_8-dark\")\n",
    "\n",
    "# x  = [x for x in range(10)]\n",
    "# print(x)\n",
    "# print(scores)\n",
    "# # Figure size\n",
    "# plt.figure(figsize=(10,5))\n",
    "\n",
    "# # Line plot\n",
    "# plt.plot(x, scores)\n",
    "# # plt.plot(np.mean(scores)*np.ones(len(scores)), c='black', label='mean')\n",
    "\n",
    "# # Aesthetics\n",
    "# plt.title('Fold accuracy')\n",
    "# plt.xlabel('Fold')\n",
    "# plt.ylabel('Accuracy')\n",
    "# plt.legend()\n",
    "# plt.show()\n",
    "\n",
    "import matplotlib.pyplot as plt\n",
    "import numpy as np\n",
    "\n",
    "# Define scores\n",
    "scores = [89, 92, 85, 95, 88, 91, 84, 97, 90, 93]\n",
    "\n",
    "# x values\n",
    "x = [x for x in range(10)]\n",
    "\n",
    "# Figure size\n",
    "plt.figure(figsize=(10,5))\n",
    "\n",
    "# Line plot\n",
    "plt.plot(x, scores, marker='o', linestyle='-', color='b', label='Scores')\n",
    "\n",
    "# Grid lines\n",
    "plt.grid(True, linestyle='--', alpha=0.7)\n",
    "\n",
    "# Aesthetics\n",
    "plt.title('Fold Accuracy', fontsize=16)\n",
    "plt.xlabel('Fold', fontsize=14)\n",
    "plt.ylabel('Accuracy', fontsize=14)\n",
    "plt.xticks(fontsize=12)\n",
    "plt.yticks(fontsize=12)\n",
    "plt.legend(fontsize=12)\n",
    "plt.tight_layout()  # Adjust layout to prevent clipping of labels\n",
    "plt.show()\n",
    "%matplotlib inline"
   ]
  },
  {
   "cell_type": "markdown",
   "id": "e1cfd095",
   "metadata": {
    "papermill": {
     "duration": 0.031727,
     "end_time": "2022-02-13T13:19:58.139313",
     "exception": false,
     "start_time": "2022-02-13T13:19:58.107586",
     "status": "completed"
    },
    "tags": []
   },
   "source": [
    "**Plot fold time**"
   ]
  },
  {
   "cell_type": "code",
   "execution_count": null,
   "id": "33b7dbda",
   "metadata": {
    "execution": {
     "iopub.execute_input": "2022-02-13T13:19:58.233783Z",
     "iopub.status.busy": "2022-02-13T13:19:58.232395Z",
     "iopub.status.idle": "2022-02-13T13:19:58.472278Z",
     "shell.execute_reply": "2022-02-13T13:19:58.471742Z",
     "shell.execute_reply.started": "2022-02-13T11:45:05.185704Z"
    },
    "papermill": {
     "duration": 0.3019,
     "end_time": "2022-02-13T13:19:58.472424",
     "exception": false,
     "start_time": "2022-02-13T13:19:58.170524",
     "status": "completed"
    },
    "tags": []
   },
   "outputs": [],
   "source": [
    "# Figure size\n",
    "\n",
    "plt.style.use(\"seaborn-v0_8-dark\")\n",
    "plt.figure(figsize=(10,5))\n",
    "\n",
    "# Line plot\n",
    "plt.plot(times, label='times', c='orange')\n",
    "plt.plot(np.mean(times)*np.ones(len(times)), c='black', label='mean')\n",
    "\n",
    "# Aesthetics\n",
    "plt.title('Fold time')\n",
    "plt.xlabel('Fold')\n",
    "plt.ylabel('Time (mins)')\n",
    "plt.legend()"
   ]
  },
  {
   "cell_type": "markdown",
   "id": "3a79d372",
   "metadata": {
    "papermill": {
     "duration": 0.032796,
     "end_time": "2022-02-13T13:19:58.537965",
     "exception": false,
     "start_time": "2022-02-13T13:19:58.505169",
     "status": "completed"
    },
    "tags": []
   },
   "source": [
    "**Plot learning curves**"
   ]
  },
  {
   "cell_type": "code",
   "execution_count": null,
   "id": "3aa8f5f2",
   "metadata": {
    "execution": {
     "iopub.execute_input": "2022-02-13T13:19:58.616338Z",
     "iopub.status.busy": "2022-02-13T13:19:58.615500Z",
     "iopub.status.idle": "2022-02-13T13:20:03.309471Z",
     "shell.execute_reply": "2022-02-13T13:20:03.309888Z",
     "shell.execute_reply.started": "2022-02-13T11:45:05.627350Z"
    },
    "papermill": {
     "duration": 4.739669,
     "end_time": "2022-02-13T13:20:03.310069",
     "exception": false,
     "start_time": "2022-02-13T13:19:58.570400",
     "status": "completed"
    },
    "tags": []
   },
   "outputs": [],
   "source": [
    "for i in range(FOLDS):\n",
    "    \n",
    "    plt.style.use(\"seaborn-v0_8-dark\")\n",
    "    fig, axes = plt.subplots(nrows=1, ncols=2, figsize=(16,4))\n",
    "    plt.suptitle('Fold '+str(i+1), fontsize=20)\n",
    "    \n",
    "    plt.subplot(1,2,1)\n",
    "    ax=history_df.reset_index().loc[EPOCHS*i+1:EPOCHS*(i+1)-1, ['loss', 'val_loss']].plot(title=\"Cross-entropy\", ax=axes[0])\n",
    "    plt.xlabel('Epoch')\n",
    "    \n",
    "    plt.subplot(1,2,2)\n",
    "    ax=history_df.reset_index().loc[EPOCHS*i+1:EPOCHS*(i+1)-1, ['sparse_categorical_accuracy', 'val_sparse_categorical_accuracy']].plot(title=\"Accuracy\", ax=axes[1])\n",
    "    plt.xlabel('Epoch')"
   ]
  },
  {
   "cell_type": "markdown",
   "id": "4cdd3430",
   "metadata": {
    "papermill": {
     "duration": 0.049751,
     "end_time": "2022-02-13T13:20:03.410927",
     "exception": false,
     "start_time": "2022-02-13T13:20:03.361176",
     "status": "completed"
    },
    "tags": []
   },
   "source": [
    "**Soft voting**"
   ]
  },
  {
   "cell_type": "code",
   "execution_count": null,
   "id": "e99c39de",
   "metadata": {
    "execution": {
     "iopub.execute_input": "2022-02-13T13:20:03.514317Z",
     "iopub.status.busy": "2022-02-13T13:20:03.513320Z",
     "iopub.status.idle": "2022-02-13T13:20:03.516787Z",
     "shell.execute_reply": "2022-02-13T13:20:03.516374Z",
     "shell.execute_reply.started": "2022-02-13T11:45:11.246308Z"
    },
    "papermill": {
     "duration": 0.056681,
     "end_time": "2022-02-13T13:20:03.516904",
     "exception": false,
     "start_time": "2022-02-13T13:20:03.460223",
     "status": "completed"
    },
    "tags": []
   },
   "outputs": [],
   "source": [
    "# Soft voting to ensemble predictions\n",
    "test_preds = np.argmax(test_preds, axis=1)"
   ]
  },
  {
   "cell_type": "markdown",
   "id": "7de9dea6",
   "metadata": {
    "papermill": {
     "duration": 0.049442,
     "end_time": "2022-02-13T13:20:03.615375",
     "exception": false,
     "start_time": "2022-02-13T13:20:03.565933",
     "status": "completed"
    },
    "tags": []
   },
   "source": [
    "**Plot predictions**"
   ]
  },
  {
   "cell_type": "code",
   "execution_count": null,
   "id": "dfeb5968",
   "metadata": {
    "execution": {
     "iopub.execute_input": "2022-02-13T13:20:03.737382Z",
     "iopub.status.busy": "2022-02-13T13:20:03.736525Z",
     "iopub.status.idle": "2022-02-13T13:20:04.980685Z",
     "shell.execute_reply": "2022-02-13T13:20:04.980256Z",
     "shell.execute_reply.started": "2022-02-13T11:45:11.253138Z"
    },
    "papermill": {
     "duration": 1.315394,
     "end_time": "2022-02-13T13:20:04.980821",
     "exception": false,
     "start_time": "2022-02-13T13:20:03.665427",
     "status": "completed"
    },
    "tags": []
   },
   "outputs": [],
   "source": [
    "# Plot some model predictions\n",
    "plt.figure(figsize=(15,3.5))\n",
    "plt.suptitle('Model predictions', fontsize=20, y=1.05)\n",
    "\n",
    "# Subplot\n",
    "for i in range(20):\n",
    "    img = test_data[i];\n",
    "    ax=plt.subplot(2, 10, i+1)\n",
    "    ax.grid(False)\n",
    "    ax.get_xaxis().set_visible(False)\n",
    "    ax.get_yaxis().set_visible(False)\n",
    "    ax.title.set_text(f'Pred:{test_preds[i]}')\n",
    "    plt.imshow(img, cmap='gray')\n",
    "    \n",
    "plt.show()"
   ]
  },
  {
   "cell_type": "markdown",
   "id": "4aaa7673",
   "metadata": {
    "papermill": {
     "duration": 0.051728,
     "end_time": "2022-02-13T13:20:05.084876",
     "exception": false,
     "start_time": "2022-02-13T13:20:05.033148",
     "status": "completed"
    },
    "tags": []
   },
   "source": [
    "# Submission"
   ]
  },
  {
   "cell_type": "code",
   "execution_count": null,
   "id": "43131ad1",
   "metadata": {
    "execution": {
     "iopub.execute_input": "2022-02-13T13:20:05.197761Z",
     "iopub.status.busy": "2022-02-13T13:20:05.192906Z",
     "iopub.status.idle": "2022-02-13T13:20:05.200308Z",
     "shell.execute_reply": "2022-02-13T13:20:05.200710Z",
     "shell.execute_reply.started": "2022-02-13T11:45:12.450723Z"
    },
    "papermill": {
     "duration": 0.063952,
     "end_time": "2022-02-13T13:20:05.200861",
     "exception": false,
     "start_time": "2022-02-13T13:20:05.136909",
     "status": "completed"
    },
    "tags": []
   },
   "outputs": [],
   "source": [
    "# Save predictions to file\n",
    "output = pd.DataFrame({'ImageId': test_index+1,\n",
    "                       'Label': test_preds})\n",
    "\n",
    "# Check format\n",
    "output.head()\n",
    "\n",
    "print('jo')"
   ]
  },
  {
   "cell_type": "code",
   "execution_count": null,
   "id": "7b7faa5f",
   "metadata": {
    "execution": {
     "iopub.execute_input": "2022-02-13T13:20:05.310889Z",
     "iopub.status.busy": "2022-02-13T13:20:05.310305Z",
     "iopub.status.idle": "2022-02-13T13:20:05.357772Z",
     "shell.execute_reply": "2022-02-13T13:20:05.358184Z",
     "shell.execute_reply.started": "2022-02-13T11:45:12.465563Z"
    },
    "papermill": {
     "duration": 0.106208,
     "end_time": "2022-02-13T13:20:05.358341",
     "exception": false,
     "start_time": "2022-02-13T13:20:05.252133",
     "status": "completed"
    },
    "tags": []
   },
   "outputs": [],
   "source": [
    "output.to_csv('submission.csv', index=False)"
   ]
  },
  {
   "cell_type": "code",
   "execution_count": null,
   "id": "874855a5",
   "metadata": {},
   "outputs": [],
   "source": [
    "train_data_small = pd.read_csv(r\"C:\\Users\\Udit Goel\\Desktop\\FDM Project\\MNIST Data\\train-small.csv\")"
   ]
  },
  {
   "cell_type": "code",
   "execution_count": null,
   "id": "4a1463ce",
   "metadata": {},
   "outputs": [],
   "source": [
    "train_data_small"
   ]
  },
  {
   "cell_type": "code",
   "execution_count": 46,
   "id": "57f77e79",
   "metadata": {},
   "outputs": [
    {
     "ename": "SyntaxError",
     "evalue": "incomplete input (1339354389.py, line 3)",
     "output_type": "error",
     "traceback": [
      "\u001b[1;36m  Cell \u001b[1;32mIn[46], line 3\u001b[1;36m\u001b[0m\n\u001b[1;33m    # np.random.shuffle(i)\u001b[0m\n\u001b[1;37m                          ^\u001b[0m\n\u001b[1;31mSyntaxError\u001b[0m\u001b[1;31m:\u001b[0m incomplete input\n"
     ]
    }
   ],
   "source": [
    "for i in train_data_small.iloc[1:,1:]:\n",
    "    print(i)\n",
    "    # np.random.shuffle(i)"
   ]
  },
  {
   "cell_type": "code",
   "execution_count": null,
   "id": "94faf66c",
   "metadata": {},
   "outputs": [],
   "source": []
  }
 ],
 "metadata": {
  "kernelspec": {
   "display_name": "Python 3",
   "language": "python",
   "name": "python3"
  },
  "language_info": {
   "codemirror_mode": {
    "name": "ipython",
    "version": 3
   },
   "file_extension": ".py",
   "mimetype": "text/x-python",
   "name": "python",
   "nbconvert_exporter": "python",
   "pygments_lexer": "ipython3",
   "version": "3.11.4"
  },
  "papermill": {
   "default_parameters": {},
   "duration": 2292.271803,
   "end_time": "2022-02-13T13:20:08.645459",
   "environment_variables": {},
   "exception": null,
   "input_path": "__notebook__.ipynb",
   "output_path": "__notebook__.ipynb",
   "parameters": {},
   "start_time": "2022-02-13T12:41:56.373656",
   "version": "2.3.3"
  }
 },
 "nbformat": 4,
 "nbformat_minor": 5
}
